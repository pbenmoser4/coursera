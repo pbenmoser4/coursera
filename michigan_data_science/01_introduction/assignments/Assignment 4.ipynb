{
 "cells": [
  {
   "cell_type": "markdown",
   "metadata": {},
   "source": [
    "---\n",
    "\n",
    "_You are currently looking at **version 1.1** of this notebook. To download notebooks and datafiles, as well as get help on Jupyter notebooks in the Coursera platform, visit the [Jupyter Notebook FAQ](https://www.coursera.org/learn/python-data-analysis/resources/0dhYG) course resource._\n",
    "\n",
    "---"
   ]
  },
  {
   "cell_type": "code",
   "execution_count": 278,
   "metadata": {},
   "outputs": [],
   "source": [
    "import pandas as pd\n",
    "import numpy as np\n",
    "from scipy.stats import ttest_ind"
   ]
  },
  {
   "cell_type": "markdown",
   "metadata": {},
   "source": [
    "# Assignment 4 - Hypothesis Testing\n",
    "This assignment requires more individual learning than previous assignments - you are encouraged to check out the [pandas documentation](http://pandas.pydata.org/pandas-docs/stable/) to find functions or methods you might not have used yet, or ask questions on [Stack Overflow](http://stackoverflow.com/) and tag them as pandas and python related. And of course, the discussion forums are open for interaction with your peers and the course staff.\n",
    "\n",
    "Definitions:\n",
    "* A _quarter_ is a specific three month period, Q1 is January through March, Q2 is April through June, Q3 is July through September, Q4 is October through December.\n",
    "* A _recession_ is defined as starting with two consecutive quarters of GDP decline, and ending with two consecutive quarters of GDP growth.\n",
    "* A _recession bottom_ is the quarter within a recession which had the lowest GDP.\n",
    "* A _university town_ is a city which has a high percentage of university students compared to the total population of the city.\n",
    "\n",
    "**Hypothesis**: University towns have their mean housing prices less effected by recessions. Run a t-test to compare the ratio of the mean price of houses in university towns the quarter before the recession starts compared to the recession bottom. (`price_ratio=quarter_before_recession/recession_bottom`)\n",
    "\n",
    "The following data files are available for this assignment:\n",
    "* From the [Zillow research data site](http://www.zillow.com/research/data/) there is housing data for the United States. In particular the datafile for [all homes at a city level](http://files.zillowstatic.com/research/public/City/City_Zhvi_AllHomes.csv), ```City_Zhvi_AllHomes.csv```, has median home sale prices at a fine grained level.\n",
    "* From the Wikipedia page on college towns is a list of [university towns in the United States](https://en.wikipedia.org/wiki/List_of_college_towns#College_towns_in_the_United_States) which has been copy and pasted into the file ```university_towns.txt```.\n",
    "* From Bureau of Economic Analysis, US Department of Commerce, the [GDP over time](http://www.bea.gov/national/index.htm#gdp) of the United States in current dollars (use the chained value in 2009 dollars), in quarterly intervals, in the file ```gdplev.xls```. For this assignment, only look at GDP data from the first quarter of 2000 onward.\n",
    "\n",
    "Each function in this assignment below is worth 10%, with the exception of ```run_ttest()```, which is worth 50%."
   ]
  },
  {
   "cell_type": "code",
   "execution_count": 279,
   "metadata": {},
   "outputs": [],
   "source": [
    "# Use this dictionary to map state names to two letter acronyms\n",
    "states = {'OH': 'Ohio', 'KY': 'Kentucky', 'AS': 'American Samoa', 'NV': 'Nevada', 'WY': 'Wyoming', 'NA': 'National', 'AL': 'Alabama', 'MD': 'Maryland', 'AK': 'Alaska', 'UT': 'Utah', 'OR': 'Oregon', 'MT': 'Montana', 'IL': 'Illinois', 'TN': 'Tennessee', 'DC': 'District of Columbia', 'VT': 'Vermont', 'ID': 'Idaho', 'AR': 'Arkansas', 'ME': 'Maine', 'WA': 'Washington', 'HI': 'Hawaii', 'WI': 'Wisconsin', 'MI': 'Michigan', 'IN': 'Indiana', 'NJ': 'New Jersey', 'AZ': 'Arizona', 'GU': 'Guam', 'MS': 'Mississippi', 'PR': 'Puerto Rico', 'NC': 'North Carolina', 'TX': 'Texas', 'SD': 'South Dakota', 'MP': 'Northern Mariana Islands', 'IA': 'Iowa', 'MO': 'Missouri', 'CT': 'Connecticut', 'WV': 'West Virginia', 'SC': 'South Carolina', 'LA': 'Louisiana', 'KS': 'Kansas', 'NY': 'New York', 'NE': 'Nebraska', 'OK': 'Oklahoma', 'FL': 'Florida', 'CA': 'California', 'CO': 'Colorado', 'PA': 'Pennsylvania', 'DE': 'Delaware', 'NM': 'New Mexico', 'RI': 'Rhode Island', 'MN': 'Minnesota', 'VI': 'Virgin Islands', 'NH': 'New Hampshire', 'MA': 'Massachusetts', 'GA': 'Georgia', 'ND': 'North Dakota', 'VA': 'Virginia'}\n",
    "\n",
    "def clean_recession_data():\n",
    "    recession_data = pd.read_excel('../data/gdplev.xls', header=4, usecols=\"E:G\")\n",
    "    recession_data.dropna(how=\"all\", inplace=True)\n",
    "    recession_data.columns = ['Quarter', 'GDP Current', 'GDP Chained']\n",
    "    recession_data = recession_data[['Quarter', 'GDP Chained']]\n",
    "    recession_data.reset_index(inplace=True, drop=True)\n",
    "    start_index = recession_data[recession_data['Quarter'] == '2000q1'].index[0]\n",
    "    recession_data.drop(recession_data.index[:start_index], inplace=True)\n",
    "    recession_data.reset_index(inplace=True, drop=True)\n",
    "    \n",
    "    return recession_data"
   ]
  },
  {
   "cell_type": "code",
   "execution_count": 290,
   "metadata": {},
   "outputs": [],
   "source": [
    "import re\n",
    "\n",
    "def get_list_of_university_towns():\n",
    "    '''Returns a DataFrame of towns and the states they are in from the \n",
    "    university_towns.txt list. The format of the DataFrame should be:\n",
    "    DataFrame( [ [\"Michigan\", \"Ann Arbor\"], [\"Michigan\", \"Yipsilanti\"] ], \n",
    "    columns=[\"State\", \"RegionName\"]  )\n",
    "    \n",
    "    The following cleaning needs to be done:\n",
    "\n",
    "    1. For \"State\", removing characters from \"[\" to the end.\n",
    "    2. For \"RegionName\", when applicable, removing every character from \" (\" to the end.\n",
    "    3. Depending on how you read the data, you may need to remove newline character '\\n'. '''\n",
    "    \n",
    "    df_data = []\n",
    "    town_file = open('../data/university_towns.txt')\n",
    "    current_state = ''\n",
    "    for line in town_file.readlines():\n",
    "        if re.search('\\[edit\\]', str(line)):\n",
    "            current_state = line.split('[')[0].strip()\n",
    "        else:\n",
    "            df_data.append([current_state, line.split('(')[0].strip()])\n",
    "    \n",
    "    df = pd.DataFrame(df_data)\n",
    "    df.columns = ['State', 'RegionName']\n",
    "    return df"
   ]
  },
  {
   "cell_type": "code",
   "execution_count": 291,
   "metadata": {},
   "outputs": [],
   "source": [
    "def get_recession_start():\n",
    "    '''Returns the year and quarter of the recession start time as a \n",
    "    string value in a format such as 2005q3'''\n",
    "    \n",
    "    # Getting the DF trimmed up for use    \n",
    "    cleaned_data = clean_recession_data()\n",
    "    max_index = cleaned_data.shape[0] - 1\n",
    "    \n",
    "    for index, row in cleaned_data.iterrows():\n",
    "        if index + 2 <= max_index:\n",
    "            next_quarter = cleaned_data.iloc[index + 1]\n",
    "            second_quarter = cleaned_data.iloc[index + 2]\n",
    "            if next_quarter['GDP Chained'] - row['GDP Chained'] < 0 and second_quarter['GDP Chained'] - next_quarter['GDP Chained'] < 0:\n",
    "                return row['Quarter']\n",
    "    \n",
    "    return None"
   ]
  },
  {
   "cell_type": "code",
   "execution_count": 292,
   "metadata": {},
   "outputs": [],
   "source": [
    "def get_recession_end():\n",
    "    '''Returns the year and quarter of the recession end time as a \n",
    "    string value in a format such as 2005q3'''\n",
    "    \n",
    "    # Getting the DF trimmed up for use    \n",
    "    cleaned_data = clean_recession_data()\n",
    "    max_index = cleaned_data.shape[0] - 1\n",
    "    \n",
    "    recession_start = get_recession_start()\n",
    "    \n",
    "    for index, row in cleaned_data.iterrows():\n",
    "        if row['Quarter'] > recession_start and index >= 2:\n",
    "            previous_quarter = cleaned_data.iloc[index - 1]\n",
    "            second_previous_quarter = cleaned_data.iloc[index - 2]\n",
    "            if row['GDP Chained'] - previous_quarter['GDP Chained'] > 0 and previous_quarter['GDP Chained'] - second_previous_quarter['GDP Chained'] > 0:\n",
    "                return row['Quarter']\n",
    "    \n",
    "    return None"
   ]
  },
  {
   "cell_type": "code",
   "execution_count": 293,
   "metadata": {},
   "outputs": [],
   "source": [
    "def get_recession_bottom():\n",
    "    '''Returns the year and quarter of the recession bottom time as a \n",
    "    string value in a format such as 2005q3'''\n",
    "    \n",
    "    cleaned_data = clean_recession_data()\n",
    "    start = get_recession_start()\n",
    "    end = get_recession_end()\n",
    "    \n",
    "    recession = cleaned_data[(cleaned_data['Quarter'] >= start) & (cleaned_data['Quarter'] <= end)]\n",
    "    min_index = recession['GDP Chained'].idxmin()\n",
    "    return recession.loc[min_index]['Quarter']"
   ]
  },
  {
   "cell_type": "code",
   "execution_count": 294,
   "metadata": {},
   "outputs": [],
   "source": [
    "def convert_housing_data_to_quarters():\n",
    "    '''Converts the housing data to quarters and returns it as mean \n",
    "    values in a dataframe. This dataframe should be a dataframe with\n",
    "    columns for 2000q1 through 2016q3, and should have a multi-index\n",
    "    in the shape of [\"State\",\"RegionName\"].\n",
    "    \n",
    "    Note: Quarters are defined in the assignment description, they are\n",
    "    not arbitrary three month periods.\n",
    "    \n",
    "    The resulting dataframe should have 67 columns, and 10,730 rows.\n",
    "    '''\n",
    "    \n",
    "    raw_housing_data = pd.read_csv('../data/City_Zhvi_AllHomes.csv')\n",
    "    raw_housing_data.replace({'State': states}, inplace=True)\n",
    "    \n",
    "    location_df = raw_housing_data[raw_housing_data.columns[:6]]\n",
    "    date_df = raw_housing_data[raw_housing_data.columns[6:]]\n",
    "    date_df = date_df.groupby(pd.PeriodIndex(date_df.columns, freq='Q'), axis=1).mean()\n",
    "    \n",
    "    date_df = date_df[[c for c in date_df if c >= pd.Period('2000q1')]]\n",
    "    \n",
    "    final =  pd.merge(left=location_df, right=date_df, right_index=True, left_index=True).set_index(['State', 'RegionName'])\n",
    "    final.drop(['RegionID', 'Metro', 'CountyName', 'SizeRank'], axis=1, inplace=True)\n",
    "    return final"
   ]
  },
  {
   "cell_type": "code",
   "execution_count": 289,
   "metadata": {},
   "outputs": [],
   "source": [
    "def run_ttest():\n",
    "    '''First creates new data showing the decline or growth of housing prices\n",
    "    between the recession start and the recession bottom. Then runs a ttest\n",
    "    comparing the university town values to the non-university towns values, \n",
    "    return whether the alternative hypothesis (that the two groups are the same)\n",
    "    is true or not as well as the p-value of the confidence. \n",
    "    \n",
    "    Return the tuple (different, p, better) where different=True if the t-test is\n",
    "    True at a p<0.01 (we reject the null hypothesis), or different=False if \n",
    "    otherwise (we cannot reject the null hypothesis). The variable p should\n",
    "    be equal to the exact p value returned from scipy.stats.ttest_ind(). The\n",
    "    value for better should be either \"university town\" or \"non-university town\"\n",
    "    depending on which has a lower mean price ratio (which is equivilent to a\n",
    "    reduced market loss).'''\n",
    "    \n",
    "    housing_data = convert_housing_data_to_quarters()\n",
    "    recession_start = pd.Period(get_recession_start())\n",
    "    recession_bottom = pd.Period(get_recession_bottom())\n",
    "    housing_data['difference'] = housing_data[recession_bottom] - housing_data[recession_start]\n",
    "\n",
    "    university_towns = get_list_of_university_towns()\n",
    "    \n",
    "    university_housing = pd.merge(left=housing_data, right=university_towns, on=['State', 'RegionName'], indicator=True, how=\"outer\")\n",
    "    university_housing = university_housing[university_housing['_merge'] == 'both']\n",
    "    university_housing.dropna(how=\"all\", inplace=True)\n",
    "    \n",
    "    non_university_housing = pd.merge(left=housing_data, right=university_towns, on=['State', 'RegionName'], indicator=True, how=\"outer\")\n",
    "    non_university_housing = non_university_housing[non_university_housing['_merge'] == 'left_only']\n",
    "    non_university_housing.dropna(how=\"all\", inplace=True)\n",
    "\n",
    "    test_result = ttest_ind(university_housing['difference'].dropna(), non_university_housing['difference'].dropna())\n",
    "    \n",
    "    return (True if test_result.pvalue < 0.01 else False, test_result.pvalue, \"university_town\" if test_result.statistic > 0 else \"non-university town\")"
   ]
  },
  {
   "cell_type": "code",
   "execution_count": null,
   "metadata": {},
   "outputs": [],
   "source": []
  }
 ],
 "metadata": {
  "coursera": {
   "course_slug": "python-data-analysis",
   "graded_item_id": "Il9Fx",
   "launcher_item_id": "TeDW0",
   "part_id": "WGlun"
  },
  "kernelspec": {
   "display_name": "Python 3",
   "language": "python",
   "name": "python3"
  },
  "language_info": {
   "codemirror_mode": {
    "name": "ipython",
    "version": 3
   },
   "file_extension": ".py",
   "mimetype": "text/x-python",
   "name": "python",
   "nbconvert_exporter": "python",
   "pygments_lexer": "ipython3",
   "version": "3.6.5"
  }
 },
 "nbformat": 4,
 "nbformat_minor": 1
}
